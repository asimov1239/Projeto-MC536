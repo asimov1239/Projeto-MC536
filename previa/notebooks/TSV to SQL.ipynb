{
 "cells": [
  {
   "cell_type": "code",
   "execution_count": 1,
   "id": "2ca54206",
   "metadata": {},
   "outputs": [],
   "source": [
    "import pandas as pd\n",
    "import sqlite3"
   ]
  },
  {
   "cell_type": "code",
   "execution_count": 2,
   "id": "ecfb33b4",
   "metadata": {},
   "outputs": [],
   "source": [
    "con = sqlite3.connect('IMDb.db')\n",
    "cur = con.cursor()\n",
    "cur.close()\n",
    "con.close()"
   ]
  },
  {
   "cell_type": "markdown",
   "id": "ca819807",
   "metadata": {},
   "source": [
    "## Create SQL database"
   ]
  },
  {
   "cell_type": "code",
   "execution_count": 2,
   "id": "75e356b0",
   "metadata": {},
   "outputs": [],
   "source": [
    "def connect_SQL(name):\n",
    "    con = sqlite3.connect(f'{name}.db')\n",
    "    cur = con.cursor()\n",
    "    return cur"
   ]
  },
  {
   "cell_type": "markdown",
   "id": "f57ed824",
   "metadata": {},
   "source": [
    "## Visualize the SQL database"
   ]
  },
  {
   "cell_type": "code",
   "execution_count": 3,
   "id": "c0d47fb9",
   "metadata": {},
   "outputs": [],
   "source": [
    "def print_SQL(tablename, cur, top):\n",
    "    counter = 0\n",
    "    select = f'SELECT * FROM {tablename}'\n",
    "    for row in cur.execute(select):\n",
    "        print(row)\n",
    "        counter += 1\n",
    "        if counter >= top:\n",
    "            break"
   ]
  },
  {
   "cell_type": "markdown",
   "id": "42575a3c",
   "metadata": {},
   "source": [
    "## TSV to SQL"
   ]
  },
  {
   "cell_type": "code",
   "execution_count": 9,
   "id": "b0e340b9",
   "metadata": {},
   "outputs": [],
   "source": [
    "def transfer(tablename, fields, cols, insert, csize):\n",
    "    delete_table = f'DROP TABLE IF EXISTS {tablename}'\n",
    "    cur.execute(delete_table)\n",
    "    \n",
    "    create_table = f'CREATE TABLE {tablename} ({fields});'\n",
    "    cur.execute(create_table)\n",
    "    \n",
    "    reader = pd.read_csv(f'IMDb/{tablename}.tsv', delimiter='\\t', chunksize=100, usecols=cols)\n",
    "    \n",
    "    total = 0\n",
    "    while True:\n",
    "        try:\n",
    "            cur.executemany(insert, [[datum for datum in row] for idx, row in reader.get_chunk(csize).iterrows()])\n",
    "            total += csize\n",
    "            print(f'Total entries: {total}.')\n",
    "        except StopIteration:\n",
    "            while True:\n",
    "                try:\n",
    "                    cur.executemany(insert, [[datum for datum in row] for idx, row in reader.get_chunk(1).iterrows()])\n",
    "                except StopIteration:\n",
    "                    break\n",
    "            break"
   ]
  },
  {
   "cell_type": "markdown",
   "id": "757c9138",
   "metadata": {},
   "source": [
    "## Run the code"
   ]
  },
  {
   "cell_type": "code",
   "execution_count": 5,
   "id": "db81f395",
   "metadata": {},
   "outputs": [],
   "source": [
    "cur = connect_SQL('IMDb')"
   ]
  },
  {
   "cell_type": "code",
   "execution_count": 10,
   "id": "c2247dd3",
   "metadata": {},
   "outputs": [
    {
     "name": "stdout",
     "output_type": "stream",
     "text": [
      "Total entries: 100000.\n",
      "Total entries: 200000.\n",
      "Total entries: 300000.\n",
      "Total entries: 400000.\n",
      "Total entries: 500000.\n",
      "Total entries: 600000.\n",
      "Total entries: 700000.\n",
      "Total entries: 800000.\n",
      "Total entries: 900000.\n",
      "Total entries: 1000000.\n",
      "Total entries: 1100000.\n",
      "Total entries: 1200000.\n"
     ]
    }
   ],
   "source": [
    "tablename = 'ratings'\n",
    "\n",
    "fields = '''\n",
    "    _id TEXT,\n",
    "    rating REAL\n",
    "'''\n",
    "\n",
    "cols = ['tconst', 'averageRating']\n",
    "\n",
    "insert = f'INSERT INTO {tablename} VALUES (?, ?)'\n",
    "\n",
    "transfer(tablename, fields, cols, insert, 100000)"
   ]
  },
  {
   "cell_type": "code",
   "execution_count": 12,
   "id": "5bed0392",
   "metadata": {},
   "outputs": [
    {
     "name": "stdout",
     "output_type": "stream",
     "text": [
      "Total entries: 100000.\n",
      "Total entries: 200000.\n",
      "Total entries: 300000.\n",
      "Total entries: 400000.\n",
      "Total entries: 500000.\n",
      "Total entries: 600000.\n",
      "Total entries: 700000.\n",
      "Total entries: 800000.\n",
      "Total entries: 900000.\n",
      "Total entries: 1000000.\n",
      "Total entries: 1100000.\n",
      "Total entries: 1200000.\n",
      "Total entries: 1300000.\n",
      "Total entries: 1400000.\n",
      "Total entries: 1500000.\n",
      "Total entries: 1600000.\n",
      "Total entries: 1700000.\n",
      "Total entries: 1800000.\n",
      "Total entries: 1900000.\n",
      "Total entries: 2000000.\n",
      "Total entries: 2100000.\n",
      "Total entries: 2200000.\n",
      "Total entries: 2300000.\n",
      "Total entries: 2400000.\n",
      "Total entries: 2500000.\n",
      "Total entries: 2600000.\n",
      "Total entries: 2700000.\n",
      "Total entries: 2800000.\n",
      "Total entries: 2900000.\n",
      "Total entries: 3000000.\n",
      "Total entries: 3100000.\n",
      "Total entries: 3200000.\n",
      "Total entries: 3300000.\n",
      "Total entries: 3400000.\n",
      "Total entries: 3500000.\n",
      "Total entries: 3600000.\n",
      "Total entries: 3700000.\n",
      "Total entries: 3800000.\n",
      "Total entries: 3900000.\n",
      "Total entries: 4000000.\n",
      "Total entries: 4100000.\n",
      "Total entries: 4200000.\n",
      "Total entries: 4300000.\n",
      "Total entries: 4400000.\n",
      "Total entries: 4500000.\n",
      "Total entries: 4600000.\n",
      "Total entries: 4700000.\n",
      "Total entries: 4800000.\n",
      "Total entries: 4900000.\n",
      "Total entries: 5000000.\n",
      "Total entries: 5100000.\n",
      "Total entries: 5200000.\n",
      "Total entries: 5300000.\n",
      "Total entries: 5400000.\n",
      "Total entries: 5500000.\n",
      "Total entries: 5600000.\n",
      "Total entries: 5700000.\n",
      "Total entries: 5800000.\n",
      "Total entries: 5900000.\n",
      "Total entries: 6000000.\n",
      "Total entries: 6100000.\n",
      "Total entries: 6200000.\n",
      "Total entries: 6300000.\n",
      "Total entries: 6400000.\n",
      "Total entries: 6500000.\n",
      "Total entries: 6600000.\n",
      "Total entries: 6700000.\n",
      "Total entries: 6800000.\n",
      "Total entries: 6900000.\n",
      "Total entries: 7000000.\n",
      "Total entries: 7100000.\n",
      "Total entries: 7200000.\n",
      "Total entries: 7300000.\n",
      "Total entries: 7400000.\n",
      "Total entries: 7500000.\n",
      "Total entries: 7600000.\n",
      "Total entries: 7700000.\n",
      "Total entries: 7800000.\n",
      "Total entries: 7900000.\n",
      "Total entries: 8000000.\n",
      "Total entries: 8100000.\n",
      "Total entries: 8200000.\n",
      "Total entries: 8300000.\n",
      "Total entries: 8400000.\n"
     ]
    }
   ],
   "source": [
    "tablename = 'titles_genres'\n",
    "\n",
    "fields = '''\n",
    "    _id TEXT,\n",
    "    title TEXT,\n",
    "    genres TEXT\n",
    "'''\n",
    "\n",
    "cols = ['tconst', 'primaryTitle', 'genres']\n",
    "\n",
    "insert = f'INSERT INTO {tablename} VALUES (?, ?, ?)'\n",
    "\n",
    "transfer(tablename, fields, cols, insert, 100000)"
   ]
  },
  {
   "cell_type": "code",
   "execution_count": null,
   "id": "ebdaec5c",
   "metadata": {},
   "outputs": [],
   "source": []
  }
 ],
 "metadata": {
  "kernelspec": {
   "display_name": "Python 3",
   "language": "python",
   "name": "python3"
  },
  "language_info": {
   "codemirror_mode": {
    "name": "ipython",
    "version": 3
   },
   "file_extension": ".py",
   "mimetype": "text/x-python",
   "name": "python",
   "nbconvert_exporter": "python",
   "pygments_lexer": "ipython3",
   "version": "3.8.8"
  },
  "toc": {
   "base_numbering": 1,
   "nav_menu": {},
   "number_sections": false,
   "sideBar": false,
   "skip_h1_title": false,
   "title_cell": "Table of Contents",
   "title_sidebar": "Contents",
   "toc_cell": false,
   "toc_position": {},
   "toc_section_display": false,
   "toc_window_display": false
  }
 },
 "nbformat": 4,
 "nbformat_minor": 5
}
